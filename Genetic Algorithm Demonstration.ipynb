{
 "cells": [
  {
   "cell_type": "code",
   "execution_count": 45,
   "metadata": {
    "collapsed": true
   },
   "outputs": [],
   "source": [
    "import random\n",
    "import matplotlib.pyplot as plt\n",
    "import numpy as np\n"
   ]
  },
  {
   "cell_type": "markdown",
   "metadata": {},
   "source": [
    "### MAX SUM GENETICS"
   ]
  },
  {
   "cell_type": "code",
   "execution_count": 205,
   "metadata": {},
   "outputs": [],
   "source": [
    "GENERATION_SIZE = 5000\n",
    "CHROMOSOME_LENGTH = 500\n",
    "MUTATION_RATE = 0.001\n",
    "\n",
    "fitness = lambda x: np.apply_along_axis(np.sum, 1, x)\n",
    "\n",
    "\n",
    "def crossover(chromosome_1, chromosome_2):\n",
    "    crossover_point= random.randint(0,len(chromosome_1))\n",
    "    return np.concatenate((chromosome_1[:crossover_point], chromosome_2[crossover_point:]))\n",
    "\n",
    "def _mutation(x):\n",
    "    return x if random.random() >= MUTATION_RATE else 1. - x \n",
    "\n",
    "mutate = np.vectorize(_mutation)\n",
    "\n",
    "\n",
    "def selection(generation):\n",
    "    sort_idx = np.argsort(-fitness(generation))\n",
    "    generation_by_fitness = generation[(sort_idx),:]\n",
    "    population_to_keep = np.concatenate((generation_by_fitness[:GENERATION_SIZE//5, :],\n",
    "                                        generation_by_fitness[np.random.randint(\n",
    "                                            GENERATION_SIZE//5,\n",
    "                                            generation_by_fitness.shape[0],\n",
    "                                            GENERATION_SIZE//50\n",
    "                                            )]\n",
    "                                       ))\n",
    "    return population_to_keep\n",
    "\n",
    "def initialize():\n",
    "    return np.random.randint(0,2,(GENERATION_SIZE,CHROMOSOME_LENGTH))\n",
    "\n",
    "def repopulate(generation):\n",
    "    new_generation=np.empty((GENERATION_SIZE, CHROMOSOME_LENGTH))\n",
    "    chromosomes = generation[np.random.randint(0,generation.shape[0],2*GENERATION_SIZE)]\n",
    "    for i in range(GENERATION_SIZE):\n",
    "        new_generation[i,:] = mutate(crossover(chromosomes[2*i],chromosomes[2*i+1]))\n",
    "    return new_generation\n",
    "        "
   ]
  },
  {
   "cell_type": "code",
   "execution_count": 206,
   "metadata": {},
   "outputs": [
    {
     "name": "stdout",
     "output_type": "stream",
     "text": [
      "0\n",
      "5\n",
      "10\n",
      "15\n",
      "20\n",
      "25\n",
      "30\n",
      "35\n",
      "40\n",
      "45\n",
      "50\n",
      "55\n",
      "60\n",
      "65\n",
      "70\n",
      "75\n",
      "80\n",
      "85\n",
      "90\n",
      "95\n"
     ]
    }
   ],
   "source": [
    "population = initialize()\n",
    "pops_timeseries = []\n",
    "for i in range(100):\n",
    "    if i % 5 == 0:\n",
    "        print(i) \n",
    "    new_pop = selection(population)\n",
    "    pops_timeseries.append(new_pop)\n",
    "    population = repopulate(new_pop)\n"
   ]
  },
  {
   "cell_type": "code",
   "execution_count": null,
   "metadata": {
    "collapsed": true
   },
   "outputs": [],
   "source": []
  }
 ],
 "metadata": {
  "kernelspec": {
   "display_name": "Python 3",
   "language": "python",
   "name": "python3"
  },
  "language_info": {
   "codemirror_mode": {
    "name": "ipython",
    "version": 3
   },
   "file_extension": ".py",
   "mimetype": "text/x-python",
   "name": "python",
   "nbconvert_exporter": "python",
   "pygments_lexer": "ipython3",
   "version": "3.6.1"
  }
 },
 "nbformat": 4,
 "nbformat_minor": 2
}
